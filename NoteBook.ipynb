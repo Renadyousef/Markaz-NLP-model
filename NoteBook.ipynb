{
 "cells": [
  {
   "cell_type": "code",
   "execution_count": 1,
   "id": "c887ed1b-00ef-4d27-8c0c-9fa8226148cb",
   "metadata": {},
   "outputs": [
    {
     "name": "stderr",
     "output_type": "stream",
     "text": [
      "C:\\Users\\renad\\AppData\\Local\\Programs\\Python\\Python310\\lib\\site-packages\\tqdm\\auto.py:21: TqdmWarning: IProgress not found. Please update jupyter and ipywidgets. See https://ipywidgets.readthedocs.io/en/stable/user_install.html\n",
      "  from .autonotebook import tqdm as notebook_tqdm\n"
     ]
    },
    {
     "data": {
      "text/plain": [
       "True"
      ]
     },
     "execution_count": 1,
     "metadata": {},
     "output_type": "execute_result"
    }
   ],
   "source": [
    "import os\n",
    "os.environ[\"HF_HUB_DISABLE_SYMLINKS_WARNING\"] = \"1\"\n",
    "import torch\n",
    "device = 0 if torch.cuda.is_available() else -1  # 0 = first GPU, -1 = CPU for speed\n",
    "from arabert.preprocess import ArabertPreprocessor #preprocess text\n",
    "from dotenv import load_dotenv\n",
    "import re\n",
    "from nltk.tokenize import sent_tokenize\n",
    "import random\n",
    "from transformers import pipeline\n",
    "\n",
    "\n",
    "load_dotenv()  # Loads HF_TOKEN automatically"
   ]
  },
  {
   "cell_type": "code",
   "execution_count": 2,
   "id": "b817fe54-7572-4c53-aa2b-f5d1794959af",
   "metadata": {},
   "outputs": [
    {
     "name": "stderr",
     "output_type": "stream",
     "text": [
      "Some weights of the model checkpoint at CAMeL-Lab/bert-base-arabic-camelbert-da-pos-msa were not used when initializing BertForTokenClassification: ['bert.pooler.dense.bias', 'bert.pooler.dense.weight']\n",
      "- This IS expected if you are initializing BertForTokenClassification from the checkpoint of a model trained on another task or with another architecture (e.g. initializing a BertForSequenceClassification model from a BertForPreTraining model).\n",
      "- This IS NOT expected if you are initializing BertForTokenClassification from the checkpoint of a model that you expect to be exactly identical (initializing a BertForSequenceClassification model from a BertForSequenceClassification model).\n",
      "Device set to use cpu\n",
      "Some weights of the model checkpoint at CAMeL-Lab/bert-base-arabic-camelbert-msa-ner were not used when initializing BertForTokenClassification: ['bert.pooler.dense.bias', 'bert.pooler.dense.weight']\n",
      "- This IS expected if you are initializing BertForTokenClassification from the checkpoint of a model trained on another task or with another architecture (e.g. initializing a BertForSequenceClassification model from a BertForPreTraining model).\n",
      "- This IS NOT expected if you are initializing BertForTokenClassification from the checkpoint of a model that you expect to be exactly identical (initializing a BertForSequenceClassification model from a BertForSequenceClassification model).\n",
      "Device set to use cpu\n",
      "Asking to truncate to max_length but no maximum length is provided and the model has no predefined maximum length. Default to no truncation.\n",
      "Asking to truncate to max_length but no maximum length is provided and the model has no predefined maximum length. Default to no truncation.\n"
     ]
    },
    {
     "name": "stdout",
     "output_type": "stream",
     "text": [
      "POS: [{'entity': 'noun', 'score': 0.9999914, 'index': 1, 'word': 'إمارة', 'start': 0, 'end': 5}, {'entity': 'noun_prop', 'score': 0.99924755, 'index': 2, 'word': 'أبوظبي', 'start': 6, 'end': 12}, {'entity': 'pron', 'score': 0.9999192, 'index': 3, 'word': 'هي', 'start': 13, 'end': 15}, {'entity': 'noun', 'score': 0.9999318, 'index': 4, 'word': 'إحدى', 'start': 16, 'end': 20}, {'entity': 'noun', 'score': 0.99999106, 'index': 5, 'word': 'إما', 'start': 21, 'end': 24}, {'entity': 'noun', 'score': 0.99998987, 'index': 6, 'word': '##رات', 'start': 24, 'end': 27}, {'entity': 'noun', 'score': 0.99999344, 'index': 7, 'word': 'دولة', 'start': 28, 'end': 32}, {'entity': 'noun', 'score': 0.99998987, 'index': 8, 'word': 'الإمارات', 'start': 33, 'end': 41}, {'entity': 'adj', 'score': 0.9999056, 'index': 9, 'word': 'العربية', 'start': 42, 'end': 49}, {'entity': 'adj', 'score': 0.9999796, 'index': 10, 'word': 'المتحدة', 'start': 50, 'end': 57}, {'entity': 'noun_num', 'score': 0.9993895, 'index': 11, 'word': 'السبع', 'start': 58, 'end': 63}]\n",
      "NER: [{'entity': 'B-LOC', 'score': 0.98957306, 'index': 2, 'word': 'أبوظبي', 'start': 6, 'end': 12}, {'entity': 'B-LOC', 'score': 0.8156261, 'index': 8, 'word': 'الإمارات', 'start': 33, 'end': 41}, {'entity': 'I-LOC', 'score': 0.8909067, 'index': 9, 'word': 'العربية', 'start': 42, 'end': 49}, {'entity': 'I-LOC', 'score': 0.8169109, 'index': 10, 'word': 'المتحدة', 'start': 50, 'end': 57}]\n"
     ]
    }
   ],
   "source": [
    "#directly thro hugging face\n",
    "from transformers import pipeline\n",
    "\n",
    "text = \"إمارة أبوظبي هي إحدى إمارات دولة الإمارات العربية المتحدة السبع\"\n",
    "\n",
    "# POS tagging\n",
    "pos = pipeline(\n",
    "    \"token-classification\",\n",
    "    model=\"CAMeL-Lab/bert-base-arabic-camelbert-da-pos-msa\",\n",
    "    framework=\"pt\",\n",
    "    trust_remote_code=True  # VERY IMPORTANT\n",
    ")\n",
    "\n",
    "# NER\n",
    "ner = pipeline(\n",
    "    \"ner\",\n",
    "    model=\"CAMeL-Lab/bert-base-arabic-camelbert-msa-ner\",\n",
    "    framework=\"pt\",\n",
    "    trust_remote_code=True  # VERY IMPORTANT\n",
    ")\n",
    "\n",
    "print(\"POS:\", pos(text))\n",
    "print(\"NER:\", ner(text))\n"
   ]
  },
  {
   "cell_type": "code",
   "execution_count": null,
   "id": "e141e6f7-227e-45df-ac4d-8140220da158",
   "metadata": {},
   "outputs": [],
   "source": [
    "#opt2 using camel tools\n",
    "from transformers import pipeline\n",
    "ner = pipeline('ner', model='CAMeL-Lab/bert-base-arabic-camelbert-msa-ner')\n",
    "ner(\"إمارة أبوظبي هي إحدى إمارات دولة الإمارات العربية المتحدة السبع\")\n"
   ]
  }
 ],
 "metadata": {
  "kernelspec": {
   "display_name": "Python 3 (ipykernel)",
   "language": "python",
   "name": "python3"
  },
  "language_info": {
   "codemirror_mode": {
    "name": "ipython",
    "version": 3
   },
   "file_extension": ".py",
   "mimetype": "text/x-python",
   "name": "python",
   "nbconvert_exporter": "python",
   "pygments_lexer": "ipython3",
   "version": "3.10.11"
  }
 },
 "nbformat": 4,
 "nbformat_minor": 5
}
