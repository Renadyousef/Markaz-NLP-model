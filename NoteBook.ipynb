{
 "cells": [
  {
   "cell_type": "code",
   "execution_count": 19,
   "id": "c887ed1b-00ef-4d27-8c0c-9fa8226148cb",
   "metadata": {},
   "outputs": [
    {
     "data": {
      "text/plain": [
       "True"
      ]
     },
     "execution_count": 19,
     "metadata": {},
     "output_type": "execute_result"
    }
   ],
   "source": [
    "import os\n",
    "os.environ[\"HF_HUB_DISABLE_SYMLINKS_WARNING\"] = \"1\"\n",
    "import torch\n",
    "device = 0 if torch.cuda.is_available() else -1  # 0 = first GPU, -1 = CPU for speed\n",
    "from transformers import AutoTokenizer, AutoModelForTokenClassification, pipeline\n",
    "from dotenv import load_dotenv\n",
    "\n",
    "load_dotenv()  # Loads HF_TOKEN automatically"
   ]
  },
  {
   "cell_type": "code",
   "execution_count": 20,
   "id": "0084b9be-5db8-4562-8dbf-987af6d5271d",
   "metadata": {},
   "outputs": [
    {
     "name": "stderr",
     "output_type": "stream",
     "text": [
      "Device set to use cpu\n"
     ]
    },
    {
     "name": "stdout",
     "output_type": "stream",
     "text": [
      "Entity: محمد, Label: B-PER, Confidence: 0.99\n",
      "Entity: علي, Label: I-PER, Confidence: 0.98\n",
      "Entity: القاهرة, Label: B-LOC, Confidence: 0.81\n",
      "Entity: مايكروسوفت, Label: B-ORG, Confidence: 0.98\n"
     ]
    }
   ],
   "source": [
    "tokenizer = AutoTokenizer.from_pretrained(\"MostafaAhmed98/AraBert-Arabic-NER-CoNLLpp\")\n",
    "model = AutoModelForTokenClassification.from_pretrained(\"MostafaAhmed98/AraBert-Arabic-NER-CoNLLpp\")\n",
    "\n",
    "# Create a NER pipeline\n",
    "ner_pipeline = pipeline(\"ner\", model=model, tokenizer=tokenizer)\n",
    "\n",
    "# Example usage\n",
    "text = \"ولد محمد علي في القاهرة وعمل في شركة مايكروسوفت.\"\n",
    "ner_results = ner_pipeline(text)\n",
    "\n",
    "for entity in ner_results:\n",
    "    print(f\"Entity: {entity['word']}, Label: {entity['entity']}, Confidence: {entity['score']:.2f}\")\n"
   ]
  }
 ],
 "metadata": {
  "kernelspec": {
   "display_name": "Python 3 (ipykernel)",
   "language": "python",
   "name": "python3"
  },
  "language_info": {
   "codemirror_mode": {
    "name": "ipython",
    "version": 3
   },
   "file_extension": ".py",
   "mimetype": "text/x-python",
   "name": "python",
   "nbconvert_exporter": "python",
   "pygments_lexer": "ipython3",
   "version": "3.10.11"
  }
 },
 "nbformat": 4,
 "nbformat_minor": 5
}
