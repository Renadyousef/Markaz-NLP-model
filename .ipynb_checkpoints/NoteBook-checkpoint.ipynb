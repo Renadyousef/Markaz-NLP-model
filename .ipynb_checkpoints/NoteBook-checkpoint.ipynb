{
 "cells": [
  {
   "cell_type": "code",
   "execution_count": 1,
   "id": "c887ed1b-00ef-4d27-8c0c-9fa8226148cb",
   "metadata": {},
   "outputs": [
    {
     "name": "stderr",
     "output_type": "stream",
     "text": [
      "C:\\Users\\renad\\AppData\\Local\\Programs\\Python\\Python310\\lib\\site-packages\\tqdm\\auto.py:21: TqdmWarning: IProgress not found. Please update jupyter and ipywidgets. See https://ipywidgets.readthedocs.io/en/stable/user_install.html\n",
      "  from .autonotebook import tqdm as notebook_tqdm\n"
     ]
    },
    {
     "data": {
      "text/plain": [
       "True"
      ]
     },
     "execution_count": 1,
     "metadata": {},
     "output_type": "execute_result"
    }
   ],
   "source": [
    "import os\n",
    "os.environ[\"HF_HUB_DISABLE_SYMLINKS_WARNING\"] = \"1\"\n",
    "import torch\n",
    "device = 0 if torch.cuda.is_available() else -1  # 0 = first GPU, -1 = CPU for speed\n",
    "from arabert.preprocess import ArabertPreprocessor #preprocess text\n",
    "from dotenv import load_dotenv\n",
    "import re\n",
    "from nltk.tokenize import sent_tokenize\n",
    "import random\n",
    "from transformers import pipeline\n",
    "\n",
    "\n",
    "load_dotenv()  # Loads HF_TOKEN automatically"
   ]
  },
  {
   "cell_type": "code",
   "execution_count": 34,
   "id": "b817fe54-7572-4c53-aa2b-f5d1794959af",
   "metadata": {
    "scrolled": true
   },
   "outputs": [
    {
     "name": "stderr",
     "output_type": "stream",
     "text": [
      "Some weights of the model checkpoint at CAMeL-Lab/bert-base-arabic-camelbert-da-pos-msa were not used when initializing BertForTokenClassification: ['bert.pooler.dense.bias', 'bert.pooler.dense.weight']\n",
      "- This IS expected if you are initializing BertForTokenClassification from the checkpoint of a model trained on another task or with another architecture (e.g. initializing a BertForSequenceClassification model from a BertForPreTraining model).\n",
      "- This IS NOT expected if you are initializing BertForTokenClassification from the checkpoint of a model that you expect to be exactly identical (initializing a BertForSequenceClassification model from a BertForSequenceClassification model).\n",
      "Device set to use cpu\n",
      "Some weights of the model checkpoint at CAMeL-Lab/bert-base-arabic-camelbert-msa-ner were not used when initializing BertForTokenClassification: ['bert.pooler.dense.bias', 'bert.pooler.dense.weight']\n",
      "- This IS expected if you are initializing BertForTokenClassification from the checkpoint of a model trained on another task or with another architecture (e.g. initializing a BertForSequenceClassification model from a BertForPreTraining model).\n",
      "- This IS NOT expected if you are initializing BertForTokenClassification from the checkpoint of a model that you expect to be exactly identical (initializing a BertForSequenceClassification model from a BertForSequenceClassification model).\n",
      "Device set to use cpu\n"
     ]
    }
   ],
   "source": [
    "#directly thro hugging face\n",
    "from transformers import pipeline\n",
    "\n",
    "text = \"إمارة أبوظبي هي إحدى إمارات دولة الإمارات العربية المتحدة السبع\"\n",
    "\n",
    "# POS tagging\n",
    "pos = pipeline(\n",
    "    \"token-classification\",\n",
    "    model=\"CAMeL-Lab/bert-base-arabic-camelbert-da-pos-msa\",\n",
    "    framework=\"pt\",\n",
    "    trust_remote_code=True  # VERY IMPORTANT\n",
    ")\n",
    "\n",
    "# NER\n",
    "ner = pipeline(\n",
    "    \"ner\",\n",
    "    model=\"CAMeL-Lab/bert-base-arabic-camelbert-msa-ner\",\n",
    "    framework=\"pt\",\n",
    "    trust_remote_code=True  # VERY IMPORTANT\n",
    ")\n"
   ]
  },
  {
   "cell_type": "code",
   "execution_count": 35,
   "id": "0b102e3f-083e-4666-ab50-be97077a1439",
   "metadata": {},
   "outputs": [],
   "source": [
    "def generate_question_text(entity, pos, word, sentence=None):\n",
    "    \"\"\"Generate natural Arabic question from entity + POS MQ.\"\"\"\n",
    "    \n",
    "    # Person + adjective\n",
    "    if entity == \"PER\" and pos == \"adj\":\n",
    "        return f\"من لديه {word}؟\"\n",
    "    \n",
    "    # Person + proper noun\n",
    "    if entity == \"PER\" and pos == \"noun_prop\":\n",
    "        return f\"من هو {word}؟\"\n",
    "    \n",
    "    # Location + any noun\n",
    "    if entity == \"LOC\":\n",
    "        return f\"أين يقع {word}؟\"\n",
    "    \n",
    "    # Organization + adjective\n",
    "    if entity == \"ORG\" and pos == \"adj\":\n",
    "        return f\"ما هي المنظمة التي وُصفت بأنها {word}؟\"\n",
    "    \n",
    "    # Cloze/fill-in-the-blank\n",
    "    if sentence:\n",
    "        return f\"أكمل الفراغ: {sentence.replace(word, '____')}\"\n",
    "    \n",
    "    return f\"صف الكلمة: {word}\"\n"
   ]
  },
  {
   "cell_type": "code",
   "execution_count": 36,
   "id": "a6832743-0714-442d-8677-17ed4a7b3555",
   "metadata": {},
   "outputs": [],
   "source": [
    "import random\n",
    "\n",
    "def generate_TF_question(sentence, entity_word, entity_type, ner_tags):\n",
    "    \"\"\"\n",
    "    Generate a True/False question by either keeping the entity (True)\n",
    "    or replacing it with a realistic distractor of the same entity type (False).\n",
    "    \n",
    "    sentence: the original sentence\n",
    "    entity_word: the correct entity in the sentence\n",
    "    entity_type: NER type, e.g., \"LOC\", \"PER\", \"ORG\"\n",
    "    ner_tags: output from ner() for the text\n",
    "\n",
    "    the negiation doesnt seem realistic\n",
    "    \"\"\"\n",
    "    \n",
    "    # True statement\n",
    "    true_statement = f\"{sentence} (صح أم خطأ؟)\"\n",
    "    \n",
    "    # Find other entities of the same type as distractors\n",
    "    other_entities = [tag['word'] for tag in ner_tags \n",
    "                      if tag['entity'] == entity_type and tag['word'] != entity_word]\n",
    "    \n",
    "    # Pick one as distractor if exists, otherwise fallback\n",
    "    distractor = random.choice(other_entities) if other_entities else entity_word + \"X\"\n",
    "    \n",
    "    # False statement: replace entity with distractor\n",
    "    false_statement = sentence.replace(entity_word, distractor) + \" (صح أم خطأ؟)\"\n",
    "    \n",
    "    # Randomly choose True or False\n",
    "    if random.choice([True, False]):\n",
    "        return {\"type\": \"TF\", \"statement\": true_statement, \"answer\": True}\n",
    "    else:\n",
    "        return {\"type\": \"TF\", \"statement\": false_statement, \"answer\": False}\n"
   ]
  },
  {
   "cell_type": "code",
   "execution_count": 37,
   "id": "de6fc1a6-cdf5-4861-88f6-43163e4a0448",
   "metadata": {},
   "outputs": [],
   "source": [
    "difficulty_settings = {\n",
    "    \"easy\": {\n",
    "        \"num_questions\": 5,\n",
    "        \"tf_ratio\": 0.7,       # 70% TF, 30% MCQ\n",
    "        \"mcq_distractor_type\": \"simple\"  # simple placeholder distractors\n",
    "    },\n",
    "    \"medium\": {\n",
    "        \"num_questions\": 10,\n",
    "        \"tf_ratio\": 0.5,       # balanced\n",
    "        \"mcq_distractor_type\": \"medium\"  # some context-based distractors\n",
    "    },\n",
    "    \"hard\": {\n",
    "        \"num_questions\": 15,\n",
    "        \"tf_ratio\": 0.3,       # mostly MCQ\n",
    "        \"mcq_distractor_type\": \"challenging\"  # semantically close distractors\n",
    "    }\n",
    "}\n"
   ]
  },
  {
   "cell_type": "code",
   "execution_count": 38,
   "id": "ff5b543b-633f-4a39-8bee-e94195fd2ff1",
   "metadata": {},
   "outputs": [],
   "source": [
    "import random\n",
    "from collections import defaultdict\n",
    "\n",
    "def make_mq_options(entity_label, correct_entity, text, num_distractors=3):\n",
    "    \"\"\"\n",
    "    Generate MCQ options for a given entity using the entire text.\n",
    "    \n",
    "    entity_label: NER type of the correct entity (e.g., \"PER\", \"LOC\")\n",
    "    correct_entity: the correct answer\n",
    "    text: full text (string)\n",
    "    num_distractors: number of distractors to generate\n",
    "    \"\"\"\n",
    "    # Run NER on the whole text once\n",
    "    ner_tags = ner(text)  # your CAMeL BERT NER pipeline\n",
    "    \n",
    "    # Build a dictionary of entities by type\n",
    "    entities_by_type = defaultdict(list)\n",
    "    for tag in ner_tags:\n",
    "        word = tag['word']\n",
    "        label = tag['entity']\n",
    "        if word != correct_entity:  # skip correct entity\n",
    "            entities_by_type[label].append(word)\n",
    "    \n",
    "    # Get all possible distractors of the same type\n",
    "    candidates = list(set(entities_by_type.get(entity_label, [])))\n",
    "    \n",
    "    # If not enough distractors, fill with placeholders\n",
    "    while len(candidates) < num_distractors:\n",
    "        candidates.append(\"خيار\" + str(len(candidates)+1))\n",
    "    \n",
    "    # Randomly pick distractors\n",
    "    distractors = random.sample(candidates, num_distractors)\n",
    "    \n",
    "    # Combine correct answer + distractors\n",
    "    options = [correct_entity] + distractors\n",
    "    random.shuffle(options)\n",
    "    \n",
    "    return options\n"
   ]
  },
  {
   "cell_type": "code",
   "execution_count": 39,
   "id": "dad85769-32b2-4889-a613-e7c723776079",
   "metadata": {},
   "outputs": [],
   "source": [
    "def generate_MCQ_question(entity_word, sentence, entity_type=\"LOC\", full_text=None):\n",
    "    \"\"\"\n",
    "    Generate MCQ using entity as correct answer and distractors from the entire text.\n",
    "    \n",
    "    entity_word: correct answer\n",
    "    sentence: current sentence (used to generate question text)\n",
    "    entity_type: NER type of the entity\n",
    "    full_text: full text to extract distractors from (required)\n",
    "    \"\"\"\n",
    "    if full_text is None:\n",
    "        raise ValueError(\"full_text must be provided to generate distractors.\")\n",
    "    \n",
    "    # Generate the question text\n",
    "    question_text = generate_question_text(entity_type, \"noun\", entity_word, sentence)\n",
    "    \n",
    "    # Generate distractors using the full text\n",
    "    distractors = make_mq_options(entity_type, entity_word, full_text, num_distractors=3)\n",
    "    \n",
    "    # Combine correct answer + distractors and shuffle\n",
    "    options = [entity_word] + distractors\n",
    "    random.shuffle(options)\n",
    "    \n",
    "    return {\"type\": \"MCQ\", \"question\": question_text, \"options\": options, \"answer\": entity_word}\n"
   ]
  },
  {
   "cell_type": "code",
   "execution_count": 40,
   "id": "64de6e9d-42d9-4135-9b14-2139b15d37bc",
   "metadata": {},
   "outputs": [],
   "source": [
    "def make_quiz(text, level=\"medium\"):\n",
    "    settings = difficulty_settings.get(level, difficulty_settings[\"medium\"])\n",
    "    num_questions = settings[\"num_questions\"]\n",
    "    tf_ratio = settings[\"tf_ratio\"]\n",
    "\n",
    "    questions = []\n",
    "    sentences = sent_tokenize(text)\n",
    "    count = 0\n",
    "\n",
    "    for sentence in sentences:\n",
    "        if count >= num_questions:\n",
    "            break\n",
    "        \n",
    "        ner_tags = ner(sentence)\n",
    "        pos_tags = pos(sentence)\n",
    "        \n",
    "        if not ner_tags:\n",
    "            continue\n",
    "        \n",
    "        main_entity = ner_tags[0]\n",
    "        word = main_entity['word']\n",
    "        entity_type = main_entity['entity']\n",
    "        pos_tag = next((p['entity'] for p in pos_tags if p['word'] == word), \"noun\")\n",
    "\n",
    "        # Decide question type based on tf_ratio\n",
    "        if random.random() < tf_ratio:\n",
    "            questions.append(generate_TF_question(sentence, word, entity_type, ner_tags))\n",
    "        else:\n",
    "            questions.append(generate_MCQ_question(word, sentence, entity_type,full_text=text))\n",
    "        \n",
    "        count += 1\n",
    "\n",
    "    return questions\n"
   ]
  },
  {
   "cell_type": "code",
   "execution_count": 45,
   "id": "6a749261-5753-40e6-93fc-3a8490824221",
   "metadata": {},
   "outputs": [
    {
     "name": "stdout",
     "output_type": "stream",
     "text": [
      "1. MCQ: أكمل الفراغ: \n",
      "تأسست ____ الملك سعود في الرياض عام 1957.\n",
      "Options: ['جامعة', 'أر', 'جامعة', 'خيار3', 'خيار2'], Answer: جامعة\n",
      "\n",
      "2. TF: كما تضم مدينة أبوظبي العديد من المعالم السياحية الشهيرة. (صح أم خطأ؟) => True\n",
      "\n",
      "3. TF: شركة أرXامكو السعودية هي أكبر شركة نفط في العالم. (صح أم خطأ؟) => False\n",
      "\n"
     ]
    }
   ],
   "source": [
    "text = \"\"\"\n",
    "تأسست جامعة الملك سعود في الرياض عام 1957. \n",
    "كما تضم مدينة أبوظبي العديد من المعالم السياحية الشهيرة.\n",
    "شركة أرامكو السعودية هي أكبر شركة نفط في العالم.\n",
    "\"\"\"\n",
    "# Generate a quiz at medium difficulty\n",
    "quiz = make_quiz(text, level=\"medium\")\n",
    "for i, q in enumerate(quiz, 1):\n",
    "    if q[\"type\"] == \"TF\":\n",
    "        print(f\"{i}. TF: {q['statement']} => {q['answer']}\")\n",
    "    elif q[\"type\"] == \"MCQ\":\n",
    "        print(f\"{i}. MCQ: {q['question']}\")\n",
    "        print(f\"Options: {q['options']}, Answer: {q['answer']}\")\n",
    "    print()\n",
    "\n"
   ]
  },
  {
   "cell_type": "markdown",
   "id": "529db0c2-bcc8-455f-8176-7fc2fb4f8170",
   "metadata": {},
   "source": [
    "\n",
    "Note:quality of question, quiz  must set question count how will it process long text and randomness of question no all same\n"
   ]
  },
  {
   "cell_type": "code",
   "execution_count": 43,
   "id": "28b181fd-a95c-4fd9-bc79-a6b01ece5437",
   "metadata": {},
   "outputs": [],
   "source": [
    "from nltk.tokenize import sent_tokenize\n",
    "\n",
    "def make_flashCards(text, limit=10, window=5):\n",
    "    \"\"\"\n",
    "    Generate flashcards: one flashcard per sentence (or main entity).\n",
    "    window = words around entity for definition\n",
    "    \"\"\"\n",
    "    flashcards = []\n",
    "    \n",
    "    sentences = sent_tokenize(text)  # split text into sentences\n",
    "    count = 0\n",
    "    \n",
    "    for sentence in sentences:\n",
    "        if count >= limit:\n",
    "            break\n",
    "        \n",
    "        ner_tags = ner(sentence)\n",
    "        if not ner_tags:\n",
    "            continue\n",
    "        \n",
    "        # Pick main entity (first or highest confidence)\n",
    "        main_entity = ner_tags[0]\n",
    "        entity_word = main_entity['word']\n",
    "        entity_type = main_entity['entity']\n",
    "        \n",
    "        # Extract window context\n",
    "        words = sentence.split()\n",
    "        try:\n",
    "            idx = words.index(entity_word)\n",
    "        except ValueError:\n",
    "            idx = 0\n",
    "        start = max(0, idx - window)\n",
    "        end = min(len(words), idx + window + 1)\n",
    "        definition = \" \".join([w for w in words[start:end] if w != entity_word])\n",
    "        \n",
    "        flashcards.append({\n",
    "            \"term\": entity_word,\n",
    "            \"definition\": definition.strip() or f\"نوع: {entity_type}\"\n",
    "        })\n",
    "        count += 1\n",
    "        \n",
    "    return flashcards\n"
   ]
  },
  {
   "cell_type": "code",
   "execution_count": 44,
   "id": "00410160-3df0-4184-9c49-018e27f9cd80",
   "metadata": {},
   "outputs": [
    {
     "name": "stdout",
     "output_type": "stream",
     "text": [
      "{'term': 'أبوظبي', 'definition': 'إمارة هي إحدى إمارات دولة الإمارات'}\n"
     ]
    }
   ],
   "source": [
    "text = \"إمارة أبوظبي هي إحدى إمارات دولة الإمارات العربية المتحدة السبع\"\n",
    "flashcards = make_flashCards(text, limit=5)\n",
    "\n",
    "for card in flashcards:\n",
    "    print(card)\n"
   ]
  }
 ],
 "metadata": {
  "kernelspec": {
   "display_name": "Python 3 (ipykernel)",
   "language": "python",
   "name": "python3"
  },
  "language_info": {
   "codemirror_mode": {
    "name": "ipython",
    "version": 3
   },
   "file_extension": ".py",
   "mimetype": "text/x-python",
   "name": "python",
   "nbconvert_exporter": "python",
   "pygments_lexer": "ipython3",
   "version": "3.10.11"
  }
 },
 "nbformat": 4,
 "nbformat_minor": 5
}
