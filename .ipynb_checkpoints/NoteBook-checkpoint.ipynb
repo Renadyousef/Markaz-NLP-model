{
 "cells": [
  {
   "cell_type": "code",
   "execution_count": 1,
   "id": "c887ed1b-00ef-4d27-8c0c-9fa8226148cb",
   "metadata": {},
   "outputs": [
    {
     "name": "stderr",
     "output_type": "stream",
     "text": [
      "C:\\Users\\renad\\AppData\\Local\\Programs\\Python\\Python310\\lib\\site-packages\\tqdm\\auto.py:21: TqdmWarning: IProgress not found. Please update jupyter and ipywidgets. See https://ipywidgets.readthedocs.io/en/stable/user_install.html\n",
      "  from .autonotebook import tqdm as notebook_tqdm\n"
     ]
    },
    {
     "data": {
      "text/plain": [
       "True"
      ]
     },
     "execution_count": 1,
     "metadata": {},
     "output_type": "execute_result"
    }
   ],
   "source": [
    "import os\n",
    "os.environ[\"HF_HUB_DISABLE_SYMLINKS_WARNING\"] = \"1\"\n",
    "import torch\n",
    "device = 0 if torch.cuda.is_available() else -1  # 0 = first GPU, -1 = CPU for speed\n",
    "from arabert.preprocess import ArabertPreprocessor #preprocess text\n",
    "from dotenv import load_dotenv\n",
    "import re\n",
    "from nltk.tokenize import sent_tokenize\n",
    "import random\n",
    "from transformers import pipeline\n",
    "\n",
    "\n",
    "load_dotenv()  # Loads HF_TOKEN automatically"
   ]
  },
  {
   "cell_type": "code",
   "execution_count": 2,
   "id": "b817fe54-7572-4c53-aa2b-f5d1794959af",
   "metadata": {
    "scrolled": true
   },
   "outputs": [
    {
     "name": "stderr",
     "output_type": "stream",
     "text": [
      "Some weights of the model checkpoint at CAMeL-Lab/bert-base-arabic-camelbert-da-pos-msa were not used when initializing BertForTokenClassification: ['bert.pooler.dense.bias', 'bert.pooler.dense.weight']\n",
      "- This IS expected if you are initializing BertForTokenClassification from the checkpoint of a model trained on another task or with another architecture (e.g. initializing a BertForSequenceClassification model from a BertForPreTraining model).\n",
      "- This IS NOT expected if you are initializing BertForTokenClassification from the checkpoint of a model that you expect to be exactly identical (initializing a BertForSequenceClassification model from a BertForSequenceClassification model).\n",
      "Device set to use cpu\n",
      "Some weights of the model checkpoint at CAMeL-Lab/bert-base-arabic-camelbert-msa-ner were not used when initializing BertForTokenClassification: ['bert.pooler.dense.bias', 'bert.pooler.dense.weight']\n",
      "- This IS expected if you are initializing BertForTokenClassification from the checkpoint of a model trained on another task or with another architecture (e.g. initializing a BertForSequenceClassification model from a BertForPreTraining model).\n",
      "- This IS NOT expected if you are initializing BertForTokenClassification from the checkpoint of a model that you expect to be exactly identical (initializing a BertForSequenceClassification model from a BertForSequenceClassification model).\n",
      "Device set to use cpu\n",
      "Asking to truncate to max_length but no maximum length is provided and the model has no predefined maximum length. Default to no truncation.\n",
      "Asking to truncate to max_length but no maximum length is provided and the model has no predefined maximum length. Default to no truncation.\n"
     ]
    },
    {
     "name": "stdout",
     "output_type": "stream",
     "text": [
      "POS: [{'entity': 'noun', 'score': 0.9999914, 'index': 1, 'word': 'إمارة', 'start': 0, 'end': 5}, {'entity': 'noun_prop', 'score': 0.99924755, 'index': 2, 'word': 'أبوظبي', 'start': 6, 'end': 12}, {'entity': 'pron', 'score': 0.9999192, 'index': 3, 'word': 'هي', 'start': 13, 'end': 15}, {'entity': 'noun', 'score': 0.9999318, 'index': 4, 'word': 'إحدى', 'start': 16, 'end': 20}, {'entity': 'noun', 'score': 0.99999106, 'index': 5, 'word': 'إما', 'start': 21, 'end': 24}, {'entity': 'noun', 'score': 0.99998987, 'index': 6, 'word': '##رات', 'start': 24, 'end': 27}, {'entity': 'noun', 'score': 0.99999344, 'index': 7, 'word': 'دولة', 'start': 28, 'end': 32}, {'entity': 'noun', 'score': 0.99998987, 'index': 8, 'word': 'الإمارات', 'start': 33, 'end': 41}, {'entity': 'adj', 'score': 0.9999056, 'index': 9, 'word': 'العربية', 'start': 42, 'end': 49}, {'entity': 'adj', 'score': 0.9999796, 'index': 10, 'word': 'المتحدة', 'start': 50, 'end': 57}, {'entity': 'noun_num', 'score': 0.9993895, 'index': 11, 'word': 'السبع', 'start': 58, 'end': 63}]\n",
      "NER: [{'entity': 'B-LOC', 'score': 0.98957306, 'index': 2, 'word': 'أبوظبي', 'start': 6, 'end': 12}, {'entity': 'B-LOC', 'score': 0.8156261, 'index': 8, 'word': 'الإمارات', 'start': 33, 'end': 41}, {'entity': 'I-LOC', 'score': 0.8909067, 'index': 9, 'word': 'العربية', 'start': 42, 'end': 49}, {'entity': 'I-LOC', 'score': 0.8169109, 'index': 10, 'word': 'المتحدة', 'start': 50, 'end': 57}]\n"
     ]
    }
   ],
   "source": [
    "#directly thro hugging face\n",
    "from transformers import pipeline\n",
    "\n",
    "text = \"إمارة أبوظبي هي إحدى إمارات دولة الإمارات العربية المتحدة السبع\"\n",
    "\n",
    "# POS tagging\n",
    "pos = pipeline(\n",
    "    \"token-classification\",\n",
    "    model=\"CAMeL-Lab/bert-base-arabic-camelbert-da-pos-msa\",\n",
    "    framework=\"pt\",\n",
    "    trust_remote_code=True  # VERY IMPORTANT\n",
    ")\n",
    "\n",
    "# NER\n",
    "ner = pipeline(\n",
    "    \"ner\",\n",
    "    model=\"CAMeL-Lab/bert-base-arabic-camelbert-msa-ner\",\n",
    "    framework=\"pt\",\n",
    "    trust_remote_code=True  # VERY IMPORTANT\n",
    ")\n",
    "\n",
    "print(\"POS:\", pos(text))\n",
    "print(\"NER:\", ner(text))\n"
   ]
  },
  {
   "cell_type": "code",
   "execution_count": 19,
   "id": "0b102e3f-083e-4666-ab50-be97077a1439",
   "metadata": {},
   "outputs": [],
   "source": [
    "def generate_question_text(entity, pos, word, sentence=None):\n",
    "    \"\"\"Generate natural Arabic question from entity + POS MQ.\"\"\"\n",
    "    \n",
    "    # Person + adjective\n",
    "    if entity == \"PER\" and pos == \"adj\":\n",
    "        return f\"من لديه {word}؟\"\n",
    "    \n",
    "    # Person + proper noun\n",
    "    if entity == \"PER\" and pos == \"noun_prop\":\n",
    "        return f\"من هو {word}؟\"\n",
    "    \n",
    "    # Location + any noun\n",
    "    if entity == \"LOC\":\n",
    "        return f\"أين يقع {word}؟\"\n",
    "    \n",
    "    # Organization + adjective\n",
    "    if entity == \"ORG\" and pos == \"adj\":\n",
    "        return f\"ما هي المنظمة التي وُصفت بأنها {word}؟\"\n",
    "    \n",
    "    # Cloze/fill-in-the-blank\n",
    "    if sentence:\n",
    "        return f\"أكمل الفراغ: {sentence.replace(word, '____')}\"\n",
    "    \n",
    "    return f\"صف الكلمة: {word}\"\n"
   ]
  },
  {
   "cell_type": "code",
   "execution_count": 20,
   "id": "a6832743-0714-442d-8677-17ed4a7b3555",
   "metadata": {},
   "outputs": [],
   "source": [
    "import random\n",
    "\n",
    "def generate_TF_question(sentence, entity_word, entity_type, ner_tags):\n",
    "    \"\"\"\n",
    "    Generate a True/False question by either keeping the entity (True)\n",
    "    or replacing it with a realistic distractor of the same entity type (False).\n",
    "    \n",
    "    sentence: the original sentence\n",
    "    entity_word: the correct entity in the sentence\n",
    "    entity_type: NER type, e.g., \"LOC\", \"PER\", \"ORG\"\n",
    "    ner_tags: output from ner() for the text\n",
    "\n",
    "    the negiation doesnt seem realistic\n",
    "    \"\"\"\n",
    "    \n",
    "    # True statement\n",
    "    true_statement = f\"{sentence} (صح أم خطأ؟)\"\n",
    "    \n",
    "    # Find other entities of the same type as distractors\n",
    "    other_entities = [tag['word'] for tag in ner_tags \n",
    "                      if tag['entity'] == entity_type and tag['word'] != entity_word]\n",
    "    \n",
    "    # Pick one as distractor if exists, otherwise fallback\n",
    "    distractor = random.choice(other_entities) if other_entities else entity_word + \"X\"\n",
    "    \n",
    "    # False statement: replace entity with distractor\n",
    "    false_statement = sentence.replace(entity_word, distractor) + \" (صح أم خطأ؟)\"\n",
    "    \n",
    "    # Randomly choose True or False\n",
    "    if random.choice([True, False]):\n",
    "        return {\"type\": \"TF\", \"statement\": true_statement, \"answer\": True}\n",
    "    else:\n",
    "        return {\"type\": \"TF\", \"statement\": false_statement, \"answer\": False}\n"
   ]
  },
  {
   "cell_type": "code",
   "execution_count": 21,
   "id": "dad85769-32b2-4889-a613-e7c723776079",
   "metadata": {},
   "outputs": [],
   "source": [
    "def generate_MCQ_question(entity_word, sentence, entity_type=\"LOC\"):\n",
    "    \"\"\"\n",
    "    Generate MCQ using entity as correct answer and dummy distractors\n",
    "    Note:we will make options using genrator model.\n",
    "    \"\"\"\n",
    "    # Question text\n",
    "    question_text = generate_question_text(entity_type, \"noun\", entity_word, sentence)\n",
    "    \n",
    "    # Simple distractors (in practice, choose from same entity type and take options from a genrative model)\n",
    "    distractors = [\"خيار1\", \"خيار2\", \"خيار3\"]\n",
    "    \n",
    "    # Combine correct answer + distractors\n",
    "    options = [entity_word] + distractors\n",
    "    random.shuffle(options) #?\n",
    "    \n",
    "    return {\"type\": \"MCQ\", \"question\": question_text, \"options\": options, \"answer\": entity_word}\n",
    "  "
   ]
  },
  {
   "cell_type": "code",
   "execution_count": 24,
   "id": "64de6e9d-42d9-4135-9b14-2139b15d37bc",
   "metadata": {},
   "outputs": [],
   "source": [
    "def make_quiz(text):\n",
    "    questions = []\n",
    "    \n",
    "    # Run models\n",
    "    pos_tags = pos(text)\n",
    "    ner_tags = ner(text)\n",
    "    \n",
    "    # Use NER to create TF + MCQ\n",
    "    for ner_tag in ner_tags:\n",
    "        word = ner_tag['word']      # the actual entity, e.g., \"أحمد\"\n",
    "        entity = ner_tag['entity']  # the entity label, e.g., \"PER\"\n",
    "        \n",
    "        # Find POS of this word (simple match by string)\n",
    "        pos_tag = next((p['entity'] for p in pos_tags if p['word'] == word), \"noun\")\n",
    "        \n",
    "        # Generate TF question (pass the required arguments)\n",
    "        questions.append(generate_TF_question(text, word, entity, ner_tags))\n",
    "        \n",
    "        # Generate MCQ question\n",
    "        questions.append(generate_MCQ_question(word, text, entity_type=entity))\n",
    "    \n",
    "    return questions\n"
   ]
  },
  {
   "cell_type": "code",
   "execution_count": 25,
   "id": "c322f75f-1414-4bd4-a21c-7f20cc4df09f",
   "metadata": {},
   "outputs": [
    {
     "name": "stdout",
     "output_type": "stream",
     "text": [
      "TF: تأسست جامعة الملك سعود في الرياض عام 1957. (صح أم خطأ؟) => True\n",
      "MCQ: أكمل الفراغ: تأسست ____ الملك سعود في الرياض عام 1957.\n",
      "Options: ['خيار3', 'خيار2', 'خيار1', 'جامعة'] Answer: جامعة\n",
      "TF: تأسست جامعة الملك سعود في الرياض عام 1957. (صح أم خطأ؟) => True\n",
      "MCQ: أكمل الفراغ: تأسست جامعة ____ سعود في الرياض عام 1957.\n",
      "Options: ['خيار1', 'الملك', 'خيار3', 'خيار2'] Answer: الملك\n",
      "TF: تأسست جامعة الملك الملك في الرياض عام 1957. (صح أم خطأ؟) => False\n",
      "MCQ: أكمل الفراغ: تأسست جامعة الملك ____ في الرياض عام 1957.\n",
      "Options: ['خيار1', 'خيار2', 'خيار3', 'سعود'] Answer: سعود\n",
      "TF: تأسست جامعة الملك سعود في الرياضX عام 1957. (صح أم خطأ؟) => False\n",
      "MCQ: أكمل الفراغ: تأسست جامعة الملك سعود في ____ عام 1957.\n",
      "Options: ['خيار2', 'خيار1', 'الرياض', 'خيار3'] Answer: الرياض\n"
     ]
    }
   ],
   "source": [
    "text = \"تأسست جامعة الملك سعود في الرياض عام 1957.\"\n",
    "quiz = make_quiz(text)\n",
    "\n",
    "for q in quiz:\n",
    "    if q[\"type\"] == \"TF\":\n",
    "        print(\"TF:\", q[\"statement\"], \"=>\", q[\"answer\"])\n",
    "    elif q[\"type\"] == \"MCQ\":\n",
    "        print(\"MCQ:\", q[\"question\"])\n",
    "        print(\"Options:\", q[\"options\"], \"Answer:\", q[\"answer\"])\n"
   ]
  },
  {
   "cell_type": "markdown",
   "id": "529db0c2-bcc8-455f-8176-7fc2fb4f8170",
   "metadata": {},
   "source": [
    "\n",
    "Note:quality of question, quiz  must set question count how will it process long text and randomness of question no all same\n"
   ]
  },
  {
   "cell_type": "code",
   "execution_count": 27,
   "id": "28b181fd-a95c-4fd9-bc79-a6b01ece5437",
   "metadata": {},
   "outputs": [],
   "source": [
    "def make_flashCards(text, limit=10, window=5):\n",
    "    \"\"\"\n",
    "    Generate flashcards using entity and its definition extracted from context.\n",
    "    window = how many words before/after entity to include in definition.\n",
    "    \"\"\"\n",
    "    flashcards = []\n",
    "    \n",
    "    # Run NER\n",
    "    ner_tags = ner(text)\n",
    "    words = text.split()\n",
    "    \n",
    "    for ner_tag in ner_tags[:limit]:\n",
    "        entity = ner_tag['word']\n",
    "        entity_type = ner_tag['entity']\n",
    "        \n",
    "        # Find entity position in words\n",
    "        try:\n",
    "            idx = words.index(entity)\n",
    "        except ValueError:\n",
    "            idx = 0  # fallback\n",
    "        \n",
    "        # Extract a small context window around entity for definition\n",
    "        start = max(0, idx - window)\n",
    "        end = min(len(words), idx + window + 1)\n",
    "        definition_words = words[start:end]\n",
    "        \n",
    "        # Remove the entity itself from the definition\n",
    "        definition = \" \".join([w for w in definition_words if w != entity])\n",
    "        \n",
    "        flashcards.append({\n",
    "            \"term\": entity,\n",
    "            \"definition\": definition.strip() or f\"نوع: {entity_type}\"\n",
    "        })\n",
    "    \n",
    "    return flashcards\n"
   ]
  },
  {
   "cell_type": "code",
   "execution_count": 28,
   "id": "00410160-3df0-4184-9c49-018e27f9cd80",
   "metadata": {},
   "outputs": [
    {
     "name": "stdout",
     "output_type": "stream",
     "text": [
      "{'term': 'أبوظبي', 'definition': 'إمارة هي إحدى إمارات دولة الإمارات'}\n",
      "{'term': 'الإمارات', 'definition': 'أبوظبي هي إحدى إمارات دولة العربية المتحدة السبع'}\n",
      "{'term': 'العربية', 'definition': 'هي إحدى إمارات دولة الإمارات المتحدة السبع'}\n",
      "{'term': 'المتحدة', 'definition': 'إحدى إمارات دولة الإمارات العربية السبع'}\n"
     ]
    }
   ],
   "source": [
    "text = \"إمارة أبوظبي هي إحدى إمارات دولة الإمارات العربية المتحدة السبع\"\n",
    "flashcards = make_flashCards(text, limit=5)\n",
    "\n",
    "for card in flashcards:\n",
    "    print(card)\n"
   ]
  },
  {
   "cell_type": "code",
   "execution_count": null,
   "id": "de6fc1a6-cdf5-4861-88f6-43163e4a0448",
   "metadata": {},
   "outputs": [],
   "source": []
  }
 ],
 "metadata": {
  "kernelspec": {
   "display_name": "Python 3 (ipykernel)",
   "language": "python",
   "name": "python3"
  },
  "language_info": {
   "codemirror_mode": {
    "name": "ipython",
    "version": 3
   },
   "file_extension": ".py",
   "mimetype": "text/x-python",
   "name": "python",
   "nbconvert_exporter": "python",
   "pygments_lexer": "ipython3",
   "version": "3.10.11"
  }
 },
 "nbformat": 4,
 "nbformat_minor": 5
}
